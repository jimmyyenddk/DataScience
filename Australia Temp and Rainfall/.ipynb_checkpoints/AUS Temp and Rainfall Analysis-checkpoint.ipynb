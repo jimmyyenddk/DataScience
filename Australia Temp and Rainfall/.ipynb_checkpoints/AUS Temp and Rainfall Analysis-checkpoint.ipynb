{
 "cells": [
  {
   "cell_type": "code",
   "execution_count": 1,
   "metadata": {},
   "outputs": [
    {
     "data": {
      "text/html": [
       "<div>\n",
       "<style scoped>\n",
       "    .dataframe tbody tr th:only-of-type {\n",
       "        vertical-align: middle;\n",
       "    }\n",
       "\n",
       "    .dataframe tbody tr th {\n",
       "        vertical-align: top;\n",
       "    }\n",
       "\n",
       "    .dataframe thead th {\n",
       "        text-align: right;\n",
       "    }\n",
       "</style>\n",
       "<table border=\"1\" class=\"dataframe\">\n",
       "  <thead>\n",
       "    <tr style=\"text-align: right;\">\n",
       "      <th></th>\n",
       "      <th>Rainfall - (MM)</th>\n",
       "      <th>Year</th>\n",
       "      <th>Statistics</th>\n",
       "      <th>Country</th>\n",
       "      <th>ISO3</th>\n",
       "    </tr>\n",
       "  </thead>\n",
       "  <tbody>\n",
       "    <tr>\n",
       "      <th>0</th>\n",
       "      <td>66.5787</td>\n",
       "      <td>1931</td>\n",
       "      <td>Jan Average</td>\n",
       "      <td>Australia</td>\n",
       "      <td>AUS</td>\n",
       "    </tr>\n",
       "    <tr>\n",
       "      <th>1</th>\n",
       "      <td>25.4511</td>\n",
       "      <td>1931</td>\n",
       "      <td>Feb Average</td>\n",
       "      <td>Australia</td>\n",
       "      <td>AUS</td>\n",
       "    </tr>\n",
       "    <tr>\n",
       "      <th>2</th>\n",
       "      <td>68.4952</td>\n",
       "      <td>1931</td>\n",
       "      <td>Mar Average</td>\n",
       "      <td>Australia</td>\n",
       "      <td>AUS</td>\n",
       "    </tr>\n",
       "    <tr>\n",
       "      <th>3</th>\n",
       "      <td>46.4497</td>\n",
       "      <td>1931</td>\n",
       "      <td>Apr Average</td>\n",
       "      <td>Australia</td>\n",
       "      <td>AUS</td>\n",
       "    </tr>\n",
       "    <tr>\n",
       "      <th>4</th>\n",
       "      <td>41.6500</td>\n",
       "      <td>1931</td>\n",
       "      <td>May Average</td>\n",
       "      <td>Australia</td>\n",
       "      <td>AUS</td>\n",
       "    </tr>\n",
       "  </tbody>\n",
       "</table>\n",
       "</div>"
      ],
      "text/plain": [
       "   Rainfall - (MM)   Year    Statistics     Country  ISO3\n",
       "0          66.5787   1931   Jan Average   Australia   AUS\n",
       "1          25.4511   1931   Feb Average   Australia   AUS\n",
       "2          68.4952   1931   Mar Average   Australia   AUS\n",
       "3          46.4497   1931   Apr Average   Australia   AUS\n",
       "4          41.6500   1931   May Average   Australia   AUS"
      ]
     },
     "execution_count": 1,
     "metadata": {},
     "output_type": "execute_result"
    }
   ],
   "source": [
    "import pandas as pd\n",
    "\n",
    "temp = pd.read_csv(\"./temperature.csv\")\n",
    "rain = pd.read_csv(\"./rainfall.csv\")\n",
    "\n",
    "rain.head()"
   ]
  },
  {
   "cell_type": "code",
   "execution_count": 2,
   "metadata": {},
   "outputs": [
    {
     "name": "stdout",
     "output_type": "stream",
     "text": [
      "<class 'pandas.core.frame.DataFrame'>\n",
      "RangeIndex: 1032 entries, 0 to 1031\n",
      "Data columns (total 5 columns):\n",
      " #   Column           Non-Null Count  Dtype  \n",
      "---  ------           --------------  -----  \n",
      " 0   Rainfall - (MM)  1032 non-null   float64\n",
      " 1    Year            1032 non-null   int64  \n",
      " 2    Statistics      1032 non-null   object \n",
      " 3    Country         1032 non-null   object \n",
      " 4    ISO3            1032 non-null   object \n",
      "dtypes: float64(1), int64(1), object(3)\n",
      "memory usage: 40.4+ KB\n"
     ]
    }
   ],
   "source": [
    "rain.info()"
   ]
  },
  {
   "cell_type": "code",
   "execution_count": 3,
   "metadata": {},
   "outputs": [
    {
     "data": {
      "text/plain": [
       "['Rainfall - (MM)', ' Year', ' Statistics', ' Country', ' ISO3']"
      ]
     },
     "execution_count": 3,
     "metadata": {},
     "output_type": "execute_result"
    }
   ],
   "source": [
    "#Check the column name\n",
    "rain.columns.tolist()"
   ]
  },
  {
   "cell_type": "code",
   "execution_count": 4,
   "metadata": {},
   "outputs": [
    {
     "data": {
      "text/plain": [
       "['Rain', 'Year', 'Statistics', 'Country', 'ISO3']"
      ]
     },
     "execution_count": 4,
     "metadata": {},
     "output_type": "execute_result"
    }
   ],
   "source": [
    "#Rename column to non-space column, also change the name of Rainfall column\n",
    "rain = rain.rename(columns=lambda c: c.strip())\n",
    "rain = rain.rename(columns = {\"Rainfall - (MM)\":\"Rain\"})\n",
    "rain.columns.tolist()"
   ]
  },
  {
   "cell_type": "code",
   "execution_count": 5,
   "metadata": {
    "scrolled": true
   },
   "outputs": [
    {
     "data": {
      "text/html": [
       "<div>\n",
       "<style scoped>\n",
       "    .dataframe tbody tr th:only-of-type {\n",
       "        vertical-align: middle;\n",
       "    }\n",
       "\n",
       "    .dataframe tbody tr th {\n",
       "        vertical-align: top;\n",
       "    }\n",
       "\n",
       "    .dataframe thead th {\n",
       "        text-align: right;\n",
       "    }\n",
       "</style>\n",
       "<table border=\"1\" class=\"dataframe\">\n",
       "  <thead>\n",
       "    <tr style=\"text-align: right;\">\n",
       "      <th></th>\n",
       "      <th>Rain</th>\n",
       "      <th>Year</th>\n",
       "      <th>Statistics</th>\n",
       "      <th>Country</th>\n",
       "      <th>ISO3</th>\n",
       "      <th>Month</th>\n",
       "    </tr>\n",
       "  </thead>\n",
       "  <tbody>\n",
       "    <tr>\n",
       "      <th>0</th>\n",
       "      <td>66.5787</td>\n",
       "      <td>1931</td>\n",
       "      <td>Jan Average</td>\n",
       "      <td>Australia</td>\n",
       "      <td>AUS</td>\n",
       "      <td>1</td>\n",
       "    </tr>\n",
       "    <tr>\n",
       "      <th>1</th>\n",
       "      <td>25.4511</td>\n",
       "      <td>1931</td>\n",
       "      <td>Feb Average</td>\n",
       "      <td>Australia</td>\n",
       "      <td>AUS</td>\n",
       "      <td>2</td>\n",
       "    </tr>\n",
       "    <tr>\n",
       "      <th>2</th>\n",
       "      <td>68.4952</td>\n",
       "      <td>1931</td>\n",
       "      <td>Mar Average</td>\n",
       "      <td>Australia</td>\n",
       "      <td>AUS</td>\n",
       "      <td>3</td>\n",
       "    </tr>\n",
       "    <tr>\n",
       "      <th>3</th>\n",
       "      <td>46.4497</td>\n",
       "      <td>1931</td>\n",
       "      <td>Apr Average</td>\n",
       "      <td>Australia</td>\n",
       "      <td>AUS</td>\n",
       "      <td>4</td>\n",
       "    </tr>\n",
       "    <tr>\n",
       "      <th>4</th>\n",
       "      <td>41.6500</td>\n",
       "      <td>1931</td>\n",
       "      <td>May Average</td>\n",
       "      <td>Australia</td>\n",
       "      <td>AUS</td>\n",
       "      <td>5</td>\n",
       "    </tr>\n",
       "  </tbody>\n",
       "</table>\n",
       "</div>"
      ],
      "text/plain": [
       "      Rain  Year    Statistics     Country  ISO3  Month\n",
       "0  66.5787  1931   Jan Average   Australia   AUS      1\n",
       "1  25.4511  1931   Feb Average   Australia   AUS      2\n",
       "2  68.4952  1931   Mar Average   Australia   AUS      3\n",
       "3  46.4497  1931   Apr Average   Australia   AUS      4\n",
       "4  41.6500  1931   May Average   Australia   AUS      5"
      ]
     },
     "execution_count": 5,
     "metadata": {},
     "output_type": "execute_result"
    }
   ],
   "source": [
    "#Strip the white space in the row of Statistic and convert to month\n",
    "rain[\"Month\"] = rain[\"Statistics\"].str.strip().str[:3]\n",
    "rain[\"Month\"] = pd.to_datetime(rain[\"Month\"], format = \"%b\").dt.month\n",
    "rain.head()"
   ]
  },
  {
   "cell_type": "code",
   "execution_count": 6,
   "metadata": {},
   "outputs": [
    {
     "data": {
      "text/html": [
       "<div>\n",
       "<style scoped>\n",
       "    .dataframe tbody tr th:only-of-type {\n",
       "        vertical-align: middle;\n",
       "    }\n",
       "\n",
       "    .dataframe tbody tr th {\n",
       "        vertical-align: top;\n",
       "    }\n",
       "\n",
       "    .dataframe thead th {\n",
       "        text-align: right;\n",
       "    }\n",
       "</style>\n",
       "<table border=\"1\" class=\"dataframe\">\n",
       "  <thead>\n",
       "    <tr style=\"text-align: right;\">\n",
       "      <th></th>\n",
       "      <th>Rain</th>\n",
       "      <th>Year</th>\n",
       "      <th>Month</th>\n",
       "      <th>Date</th>\n",
       "    </tr>\n",
       "  </thead>\n",
       "  <tbody>\n",
       "    <tr>\n",
       "      <th>0</th>\n",
       "      <td>66.5787</td>\n",
       "      <td>1931</td>\n",
       "      <td>1</td>\n",
       "      <td>1931-01-01</td>\n",
       "    </tr>\n",
       "    <tr>\n",
       "      <th>1</th>\n",
       "      <td>25.4511</td>\n",
       "      <td>1931</td>\n",
       "      <td>2</td>\n",
       "      <td>1931-02-01</td>\n",
       "    </tr>\n",
       "    <tr>\n",
       "      <th>2</th>\n",
       "      <td>68.4952</td>\n",
       "      <td>1931</td>\n",
       "      <td>3</td>\n",
       "      <td>1931-03-01</td>\n",
       "    </tr>\n",
       "    <tr>\n",
       "      <th>3</th>\n",
       "      <td>46.4497</td>\n",
       "      <td>1931</td>\n",
       "      <td>4</td>\n",
       "      <td>1931-04-01</td>\n",
       "    </tr>\n",
       "    <tr>\n",
       "      <th>4</th>\n",
       "      <td>41.6500</td>\n",
       "      <td>1931</td>\n",
       "      <td>5</td>\n",
       "      <td>1931-05-01</td>\n",
       "    </tr>\n",
       "  </tbody>\n",
       "</table>\n",
       "</div>"
      ],
      "text/plain": [
       "      Rain  Year  Month       Date\n",
       "0  66.5787  1931      1 1931-01-01\n",
       "1  25.4511  1931      2 1931-02-01\n",
       "2  68.4952  1931      3 1931-03-01\n",
       "3  46.4497  1931      4 1931-04-01\n",
       "4  41.6500  1931      5 1931-05-01"
      ]
     },
     "execution_count": 6,
     "metadata": {},
     "output_type": "execute_result"
    }
   ],
   "source": [
    "#Combined Year , Month to Full Date column\n",
    "rain[\"Date\"] = pd.to_datetime(rain[[\"Year\",\"Month\"]].assign(DAY =1))\n",
    "\n",
    "#Remove unnecessary columns\n",
    "dropcol = [\"Statistics\",\"Country\",\"ISO3\"]\n",
    "rain = rain.drop(columns = dropcol)\n",
    "rain.head()"
   ]
  },
  {
   "cell_type": "code",
   "execution_count": 7,
   "metadata": {},
   "outputs": [
    {
     "data": {
      "text/html": [
       "<div>\n",
       "<style scoped>\n",
       "    .dataframe tbody tr th:only-of-type {\n",
       "        vertical-align: middle;\n",
       "    }\n",
       "\n",
       "    .dataframe tbody tr th {\n",
       "        vertical-align: top;\n",
       "    }\n",
       "\n",
       "    .dataframe thead th {\n",
       "        text-align: right;\n",
       "    }\n",
       "</style>\n",
       "<table border=\"1\" class=\"dataframe\">\n",
       "  <thead>\n",
       "    <tr style=\"text-align: right;\">\n",
       "      <th></th>\n",
       "      <th>Temp</th>\n",
       "      <th>Year</th>\n",
       "      <th>Month</th>\n",
       "      <th>Date</th>\n",
       "    </tr>\n",
       "  </thead>\n",
       "  <tbody>\n",
       "    <tr>\n",
       "      <th>1027</th>\n",
       "      <td>16.1341</td>\n",
       "      <td>2016</td>\n",
       "      <td>8</td>\n",
       "      <td>2016-08-01</td>\n",
       "    </tr>\n",
       "    <tr>\n",
       "      <th>1028</th>\n",
       "      <td>18.8000</td>\n",
       "      <td>2016</td>\n",
       "      <td>9</td>\n",
       "      <td>2016-09-01</td>\n",
       "    </tr>\n",
       "    <tr>\n",
       "      <th>1029</th>\n",
       "      <td>22.0308</td>\n",
       "      <td>2016</td>\n",
       "      <td>10</td>\n",
       "      <td>2016-10-01</td>\n",
       "    </tr>\n",
       "    <tr>\n",
       "      <th>1030</th>\n",
       "      <td>25.7045</td>\n",
       "      <td>2016</td>\n",
       "      <td>11</td>\n",
       "      <td>2016-11-01</td>\n",
       "    </tr>\n",
       "    <tr>\n",
       "      <th>1031</th>\n",
       "      <td>27.5676</td>\n",
       "      <td>2016</td>\n",
       "      <td>12</td>\n",
       "      <td>2016-12-01</td>\n",
       "    </tr>\n",
       "  </tbody>\n",
       "</table>\n",
       "</div>"
      ],
      "text/plain": [
       "         Temp  Year  Month       Date\n",
       "1027  16.1341  2016      8 2016-08-01\n",
       "1028  18.8000  2016      9 2016-09-01\n",
       "1029  22.0308  2016     10 2016-10-01\n",
       "1030  25.7045  2016     11 2016-11-01\n",
       "1031  27.5676  2016     12 2016-12-01"
      ]
     },
     "execution_count": 7,
     "metadata": {},
     "output_type": "execute_result"
    }
   ],
   "source": [
    "#We do the same cleaning for temperature dataset\n",
    "temp = temp.rename(columns=lambda c: c.strip())\n",
    "temp = temp.rename(columns = {\"Temperature - (Celsius)\":\"Temp\"})\n",
    "temp[\"Month\"] = temp[\"Statistics\"].str.strip().str[:3]\n",
    "temp[\"Month\"] = pd.to_datetime(temp[\"Month\"], format = \"%b\").dt.month\n",
    "temp[\"Date\"] = pd.to_datetime(temp[[\"Year\",\"Month\"]].assign(DAY =1))\n",
    "dropcol = [\"Statistics\",\"Country\",\"ISO3\"]\n",
    "temp = temp.drop(columns = dropcol)\n",
    "temp.tail()"
   ]
  },
  {
   "cell_type": "markdown",
   "metadata": {},
   "source": [
    "# ..................................................................................................."
   ]
  },
  {
   "cell_type": "markdown",
   "metadata": {},
   "source": [
    "# EDA on rain dataset"
   ]
  },
  {
   "cell_type": "code",
   "execution_count": 8,
   "metadata": {},
   "outputs": [
    {
     "data": {
      "text/plain": [
       "<matplotlib.axes._subplots.AxesSubplot at 0x239e8043188>"
      ]
     },
     "execution_count": 8,
     "metadata": {},
     "output_type": "execute_result"
    },
    {
     "data": {
      "image/png": "[encoded data removed]",
      "text/plain": [
       "<Figure size 432x288 with 1 Axes>"
      ]
     },
     "metadata": {
      "needs_background": "light"
     },
     "output_type": "display_data"
    }
   ],
   "source": [
    "import seaborn as sns\n",
    "import matplotlib.pyplot as plt\n",
    "\n",
    "#This is to see the trend of rainfall\n",
    "\n",
    "year_rain = rain.drop(columns = {\"Month\",\"Date\"})\n",
    "year_rain= rain.groupby(\"Year\")[\"Rain\"].mean().reset_index(name=\"Avg_Rain\")\n",
    "\n",
    "sns.lineplot(data=year_rain, x=\"Year\", y=\"Avg_Rain\")"
   ]
  },
  {
   "cell_type": "code",
   "execution_count": 9,
   "metadata": {},
   "outputs": [
    {
     "data": {
      "text/plain": [
       "<matplotlib.axes._subplots.AxesSubplot at 0x239e8136a08>"
      ]
     },
     "execution_count": 9,
     "metadata": {},
     "output_type": "execute_result"
    },
    {
     "data": {
      "image/png": "[encoded data removed]",
      "text/plain": [
       "<Figure size 432x288 with 1 Axes>"
      ]
     },
     "metadata": {
      "needs_background": "light"
     },
     "output_type": "display_data"
    }
   ],
   "source": [
    "#Histogram for rain distribution\n",
    "sns.distplot(rain[\"Rain\"])"
   ]
  },
  {
   "cell_type": "code",
   "execution_count": 10,
   "metadata": {},
   "outputs": [
    {
     "data": {
      "text/html": [
       "<div>\n",
       "<style scoped>\n",
       "    .dataframe tbody tr th:only-of-type {\n",
       "        vertical-align: middle;\n",
       "    }\n",
       "\n",
       "    .dataframe tbody tr th {\n",
       "        vertical-align: top;\n",
       "    }\n",
       "\n",
       "    .dataframe thead th {\n",
       "        text-align: right;\n",
       "    }\n",
       "</style>\n",
       "<table border=\"1\" class=\"dataframe\">\n",
       "  <thead>\n",
       "    <tr style=\"text-align: right;\">\n",
       "      <th></th>\n",
       "      <th>Rain</th>\n",
       "      <th>Year</th>\n",
       "      <th>Month</th>\n",
       "    </tr>\n",
       "  </thead>\n",
       "  <tbody>\n",
       "    <tr>\n",
       "      <th>count</th>\n",
       "      <td>1032.000000</td>\n",
       "      <td>1032.000000</td>\n",
       "      <td>1032.000000</td>\n",
       "    </tr>\n",
       "    <tr>\n",
       "      <th>mean</th>\n",
       "      <td>38.944948</td>\n",
       "      <td>1973.500000</td>\n",
       "      <td>6.500000</td>\n",
       "    </tr>\n",
       "    <tr>\n",
       "      <th>std</th>\n",
       "      <td>27.883921</td>\n",
       "      <td>24.836419</td>\n",
       "      <td>3.453726</td>\n",
       "    </tr>\n",
       "    <tr>\n",
       "      <th>min</th>\n",
       "      <td>5.930400</td>\n",
       "      <td>1931.000000</td>\n",
       "      <td>1.000000</td>\n",
       "    </tr>\n",
       "    <tr>\n",
       "      <th>25%</th>\n",
       "      <td>18.300075</td>\n",
       "      <td>1952.000000</td>\n",
       "      <td>3.750000</td>\n",
       "    </tr>\n",
       "    <tr>\n",
       "      <th>50%</th>\n",
       "      <td>30.307450</td>\n",
       "      <td>1973.500000</td>\n",
       "      <td>6.500000</td>\n",
       "    </tr>\n",
       "    <tr>\n",
       "      <th>75%</th>\n",
       "      <td>50.348350</td>\n",
       "      <td>1995.000000</td>\n",
       "      <td>9.250000</td>\n",
       "    </tr>\n",
       "    <tr>\n",
       "      <th>max</th>\n",
       "      <td>219.819000</td>\n",
       "      <td>2016.000000</td>\n",
       "      <td>12.000000</td>\n",
       "    </tr>\n",
       "  </tbody>\n",
       "</table>\n",
       "</div>"
      ],
      "text/plain": [
       "              Rain         Year        Month\n",
       "count  1032.000000  1032.000000  1032.000000\n",
       "mean     38.944948  1973.500000     6.500000\n",
       "std      27.883921    24.836419     3.453726\n",
       "min       5.930400  1931.000000     1.000000\n",
       "25%      18.300075  1952.000000     3.750000\n",
       "50%      30.307450  1973.500000     6.500000\n",
       "75%      50.348350  1995.000000     9.250000\n",
       "max     219.819000  2016.000000    12.000000"
      ]
     },
     "execution_count": 10,
     "metadata": {},
     "output_type": "execute_result"
    }
   ],
   "source": [
    "rain.describe()"
   ]
  },
  {
   "cell_type": "code",
   "execution_count": 11,
   "metadata": {},
   "outputs": [
    {
     "data": {
      "text/plain": [
       "<matplotlib.axes._subplots.AxesSubplot at 0x239e81f9348>"
      ]
     },
     "execution_count": 11,
     "metadata": {},
     "output_type": "execute_result"
    },
    {
     "data": {
      "image/png": "[encoded data removed]",
      "text/plain": [
       "<Figure size 432x288 with 1 Axes>"
      ]
     },
     "metadata": {
      "needs_background": "light"
     },
     "output_type": "display_data"
    }
   ],
   "source": [
    "#Create monthly rain dataset and plot to boxplot to see how fluctuate of rain per month\n",
    "month_rain = rain.drop(columns = {\"Year\",\"Date\"})\n",
    "sns.boxplot(x=\"Month\", y=\"Rain\", data = month_rain)"
   ]
  },
  {
   "cell_type": "code",
   "execution_count": 12,
   "metadata": {},
   "outputs": [
    {
     "data": {
      "text/plain": [
       "<matplotlib.axes._subplots.AxesSubplot at 0x239e838ba88>"
      ]
     },
     "execution_count": 12,
     "metadata": {},
     "output_type": "execute_result"
    },
    {
     "data": {
      "image/png": "[encoded data removed]",
      "text/plain": [
       "<Figure size 432x288 with 1 Axes>"
      ]
     },
     "metadata": {
      "needs_background": "light"
     },
     "output_type": "display_data"
    }
   ],
   "source": [
    "# To see the average rainfall by month\n",
    "\n",
    "month_rain = rain.groupby(\"Month\")[\"Rain\"].mean().reset_index(name=\"Avg_Rain\")\n",
    "\n",
    "sns.barplot(data=month_rain, x=\"Month\", y=\"Avg_Rain\")"
   ]
  },
  {
   "cell_type": "code",
   "execution_count": 13,
   "metadata": {},
   "outputs": [],
   "source": [
    "#Create function to return relevant season\n",
    "def AusSeason(x):\n",
    "    if x in range(1,3) or x==12: return \"Summer\"\n",
    "    elif x in range(3,6):return \"Autumn\"\n",
    "    elif x in range(6,9):return \"Winter\"\n",
    "    else:return \"Spring\""
   ]
  },
  {
   "cell_type": "code",
   "execution_count": 14,
   "metadata": {},
   "outputs": [
    {
     "data": {
      "text/html": [
       "<div>\n",
       "<style scoped>\n",
       "    .dataframe tbody tr th:only-of-type {\n",
       "        vertical-align: middle;\n",
       "    }\n",
       "\n",
       "    .dataframe tbody tr th {\n",
       "        vertical-align: top;\n",
       "    }\n",
       "\n",
       "    .dataframe thead th {\n",
       "        text-align: right;\n",
       "    }\n",
       "</style>\n",
       "<table border=\"1\" class=\"dataframe\">\n",
       "  <thead>\n",
       "    <tr style=\"text-align: right;\">\n",
       "      <th></th>\n",
       "      <th>Rain</th>\n",
       "      <th>Year</th>\n",
       "      <th>Month</th>\n",
       "      <th>Date</th>\n",
       "      <th>Season</th>\n",
       "    </tr>\n",
       "  </thead>\n",
       "  <tbody>\n",
       "    <tr>\n",
       "      <th>0</th>\n",
       "      <td>66.5787</td>\n",
       "      <td>1931</td>\n",
       "      <td>1</td>\n",
       "      <td>1931-01-01</td>\n",
       "      <td>Summer</td>\n",
       "    </tr>\n",
       "    <tr>\n",
       "      <th>1</th>\n",
       "      <td>25.4511</td>\n",
       "      <td>1931</td>\n",
       "      <td>2</td>\n",
       "      <td>1931-02-01</td>\n",
       "      <td>Summer</td>\n",
       "    </tr>\n",
       "    <tr>\n",
       "      <th>2</th>\n",
       "      <td>68.4952</td>\n",
       "      <td>1931</td>\n",
       "      <td>3</td>\n",
       "      <td>1931-03-01</td>\n",
       "      <td>Autumn</td>\n",
       "    </tr>\n",
       "    <tr>\n",
       "      <th>3</th>\n",
       "      <td>46.4497</td>\n",
       "      <td>1931</td>\n",
       "      <td>4</td>\n",
       "      <td>1931-04-01</td>\n",
       "      <td>Autumn</td>\n",
       "    </tr>\n",
       "    <tr>\n",
       "      <th>4</th>\n",
       "      <td>41.6500</td>\n",
       "      <td>1931</td>\n",
       "      <td>5</td>\n",
       "      <td>1931-05-01</td>\n",
       "      <td>Autumn</td>\n",
       "    </tr>\n",
       "    <tr>\n",
       "      <th>5</th>\n",
       "      <td>35.9226</td>\n",
       "      <td>1931</td>\n",
       "      <td>6</td>\n",
       "      <td>1931-06-01</td>\n",
       "      <td>Winter</td>\n",
       "    </tr>\n",
       "    <tr>\n",
       "      <th>6</th>\n",
       "      <td>20.3220</td>\n",
       "      <td>1931</td>\n",
       "      <td>7</td>\n",
       "      <td>1931-07-01</td>\n",
       "      <td>Winter</td>\n",
       "    </tr>\n",
       "    <tr>\n",
       "      <th>7</th>\n",
       "      <td>14.3036</td>\n",
       "      <td>1931</td>\n",
       "      <td>8</td>\n",
       "      <td>1931-08-01</td>\n",
       "      <td>Winter</td>\n",
       "    </tr>\n",
       "    <tr>\n",
       "      <th>8</th>\n",
       "      <td>18.3005</td>\n",
       "      <td>1931</td>\n",
       "      <td>9</td>\n",
       "      <td>1931-09-01</td>\n",
       "      <td>Spring</td>\n",
       "    </tr>\n",
       "    <tr>\n",
       "      <th>9</th>\n",
       "      <td>15.1132</td>\n",
       "      <td>1931</td>\n",
       "      <td>10</td>\n",
       "      <td>1931-10-01</td>\n",
       "      <td>Spring</td>\n",
       "    </tr>\n",
       "    <tr>\n",
       "      <th>10</th>\n",
       "      <td>38.8556</td>\n",
       "      <td>1931</td>\n",
       "      <td>11</td>\n",
       "      <td>1931-11-01</td>\n",
       "      <td>Spring</td>\n",
       "    </tr>\n",
       "    <tr>\n",
       "      <th>11</th>\n",
       "      <td>43.8640</td>\n",
       "      <td>1931</td>\n",
       "      <td>12</td>\n",
       "      <td>1931-12-01</td>\n",
       "      <td>Summer</td>\n",
       "    </tr>\n",
       "  </tbody>\n",
       "</table>\n",
       "</div>"
      ],
      "text/plain": [
       "       Rain  Year  Month       Date  Season\n",
       "0   66.5787  1931      1 1931-01-01  Summer\n",
       "1   25.4511  1931      2 1931-02-01  Summer\n",
       "2   68.4952  1931      3 1931-03-01  Autumn\n",
       "3   46.4497  1931      4 1931-04-01  Autumn\n",
       "4   41.6500  1931      5 1931-05-01  Autumn\n",
       "5   35.9226  1931      6 1931-06-01  Winter\n",
       "6   20.3220  1931      7 1931-07-01  Winter\n",
       "7   14.3036  1931      8 1931-08-01  Winter\n",
       "8   18.3005  1931      9 1931-09-01  Spring\n",
       "9   15.1132  1931     10 1931-10-01  Spring\n",
       "10  38.8556  1931     11 1931-11-01  Spring\n",
       "11  43.8640  1931     12 1931-12-01  Summer"
      ]
     },
     "execution_count": 14,
     "metadata": {},
     "output_type": "execute_result"
    }
   ],
   "source": [
    "season = rain\n",
    "season[\"Season\"] = season[\"Month\"].apply(lambda x: AusSeason(x))\n",
    "season.iloc[:12]"
   ]
  },
  {
   "cell_type": "code",
   "execution_count": 15,
   "metadata": {},
   "outputs": [
    {
     "data": {
      "text/plain": [
       "<matplotlib.axes._subplots.AxesSubplot at 0x239e8454b48>"
      ]
     },
     "execution_count": 15,
     "metadata": {},
     "output_type": "execute_result"
    },
    {
     "data": {
      "image/png": "[encoded data removed]",
      "text/plain": [
       "<Figure size 432x288 with 1 Axes>"
      ]
     },
     "metadata": {
      "needs_background": "light"
     },
     "output_type": "display_data"
    }
   ],
   "source": [
    "#Group temperature by Season\n",
    "season_rain = season.drop(columns={\"Month\",\"Date\"})\n",
    "season_rain = season_rain.groupby([\"Year\",\"Season\"])[\"Rain\"].mean().reset_index(name=\"Season_AvgRain\")\n",
    "\n",
    "sns.boxplot(season_rain[\"Season\"],season_rain[\"Season_AvgRain\"])"
   ]
  },
  {
   "cell_type": "code",
   "execution_count": 70,
   "metadata": {},
   "outputs": [
    {
     "data": {
      "text/html": [
       "<div>\n",
       "<style scoped>\n",
       "    .dataframe tbody tr th:only-of-type {\n",
       "        vertical-align: middle;\n",
       "    }\n",
       "\n",
       "    .dataframe tbody tr th {\n",
       "        vertical-align: top;\n",
       "    }\n",
       "\n",
       "    .dataframe thead th {\n",
       "        text-align: right;\n",
       "    }\n",
       "</style>\n",
       "<table border=\"1\" class=\"dataframe\">\n",
       "  <thead>\n",
       "    <tr style=\"text-align: right;\">\n",
       "      <th></th>\n",
       "      <th>Spring Avrg Rain</th>\n",
       "      <th>Winter Avrg Rain</th>\n",
       "    </tr>\n",
       "  </thead>\n",
       "  <tbody>\n",
       "    <tr>\n",
       "      <th>count</th>\n",
       "      <td>86.000000</td>\n",
       "      <td>86.000000</td>\n",
       "    </tr>\n",
       "    <tr>\n",
       "      <th>mean</th>\n",
       "      <td>24.943472</td>\n",
       "      <td>22.035727</td>\n",
       "    </tr>\n",
       "    <tr>\n",
       "      <th>std</th>\n",
       "      <td>8.508743</td>\n",
       "      <td>6.224151</td>\n",
       "    </tr>\n",
       "    <tr>\n",
       "      <th>min</th>\n",
       "      <td>12.514067</td>\n",
       "      <td>9.396650</td>\n",
       "    </tr>\n",
       "    <tr>\n",
       "      <th>25%</th>\n",
       "      <td>19.178774</td>\n",
       "      <td>17.906450</td>\n",
       "    </tr>\n",
       "    <tr>\n",
       "      <th>50%</th>\n",
       "      <td>23.941017</td>\n",
       "      <td>21.682600</td>\n",
       "    </tr>\n",
       "    <tr>\n",
       "      <th>75%</th>\n",
       "      <td>30.549517</td>\n",
       "      <td>24.614008</td>\n",
       "    </tr>\n",
       "    <tr>\n",
       "      <th>max</th>\n",
       "      <td>49.902333</td>\n",
       "      <td>39.442500</td>\n",
       "    </tr>\n",
       "  </tbody>\n",
       "</table>\n",
       "</div>"
      ],
      "text/plain": [
       "       Spring Avrg Rain  Winter Avrg Rain\n",
       "count         86.000000         86.000000\n",
       "mean          24.943472         22.035727\n",
       "std            8.508743          6.224151\n",
       "min           12.514067          9.396650\n",
       "25%           19.178774         17.906450\n",
       "50%           23.941017         21.682600\n",
       "75%           30.549517         24.614008\n",
       "max           49.902333         39.442500"
      ]
     },
     "execution_count": 70,
     "metadata": {},
     "output_type": "execute_result"
    }
   ],
   "source": [
    "#Seems like the Spring and Winter are very similar, let's see the statistics of these two.\n",
    "Winter =season_rain.loc[season_rain[\"Season\"]==\"Winter\"].describe()\n",
    "Spring=season_rain.loc[season_rain[\"Season\"]==\"Spring\"].describe()\n",
    "\n",
    "newdata = pd.DataFrame({\n",
    "    \"Spring Avrg Rain\": Spring[\"Season_AvgRain\"],\n",
    "    \"Winter Avrg Rain\": Winter[\"Season_AvgRain\"],\n",
    "})\n",
    "newdata"
   ]
  },
  {
   "cell_type": "markdown",
   "metadata": {},
   "source": [
    "# ..................................................................................................."
   ]
  },
  {
   "cell_type": "markdown",
   "metadata": {},
   "source": [
    "# EDA on temp dataset "
   ]
  },
  {
   "cell_type": "code",
   "execution_count": 16,
   "metadata": {},
   "outputs": [
    {
     "data": {
      "text/plain": [
       "<matplotlib.axes._subplots.AxesSubplot at 0x239e833f508>"
      ]
     },
     "execution_count": 16,
     "metadata": {},
     "output_type": "execute_result"
    },
    {
     "data": {
      "image/png": "[encoded data removed]",
      "text/plain": [
       "<Figure size 432x288 with 1 Axes>"
      ]
     },
     "metadata": {
      "needs_background": "light"
     },
     "output_type": "display_data"
    }
   ],
   "source": [
    "#This is to see the trend of temperature\n",
    "year_temp = temp.drop(columns = {\"Month\",\"Date\"})\n",
    "year_temp= temp.groupby(\"Year\")[\"Temp\"].mean().reset_index(name=\"Avg_Temp\")\n",
    "\n",
    "sns.lineplot(data=year_temp, x=\"Year\", y=\"Avg_Temp\")"
   ]
  },
  {
   "cell_type": "code",
   "execution_count": 17,
   "metadata": {},
   "outputs": [
    {
     "data": {
      "text/plain": [
       "<matplotlib.axes._subplots.AxesSubplot at 0x239e85565c8>"
      ]
     },
     "execution_count": 17,
     "metadata": {},
     "output_type": "execute_result"
    },
    {
     "data": {
      "image/png": "[encoded data removed]",
      "text/plain": [
       "<Figure size 432x288 with 1 Axes>"
      ]
     },
     "metadata": {
      "needs_background": "light"
     },
     "output_type": "display_data"
    }
   ],
   "source": [
    "#Histogram for rain distribution\n",
    "sns.distplot(temp[\"Temp\"])"
   ]
  },
  {
   "cell_type": "code",
   "execution_count": 18,
   "metadata": {},
   "outputs": [
    {
     "data": {
      "text/plain": [
       "<matplotlib.axes._subplots.AxesSubplot at 0x239e85c9908>"
      ]
     },
     "execution_count": 18,
     "metadata": {},
     "output_type": "execute_result"
    },
    {
     "data": {
      "image/png": "[encoded data removed]",
      "text/plain": [
       "<Figure size 432x288 with 1 Axes>"
      ]
     },
     "metadata": {
      "needs_background": "light"
     },
     "output_type": "display_data"
    }
   ],
   "source": [
    "#Create monthly temp dataset and plot to boxplot to see how fluctuate of temperature per month\n",
    "\n",
    "month_temp = temp.drop(columns = {\"Year\",\"Date\"})\n",
    "sns.boxplot(x=\"Month\", y=\"Temp\", data = month_temp)"
   ]
  },
  {
   "cell_type": "code",
   "execution_count": 19,
   "metadata": {},
   "outputs": [
    {
     "data": {
      "text/html": [
       "<div>\n",
       "<style scoped>\n",
       "    .dataframe tbody tr th:only-of-type {\n",
       "        vertical-align: middle;\n",
       "    }\n",
       "\n",
       "    .dataframe tbody tr th {\n",
       "        vertical-align: top;\n",
       "    }\n",
       "\n",
       "    .dataframe thead th {\n",
       "        text-align: right;\n",
       "    }\n",
       "</style>\n",
       "<table border=\"1\" class=\"dataframe\">\n",
       "  <thead>\n",
       "    <tr style=\"text-align: right;\">\n",
       "      <th></th>\n",
       "      <th>Temp</th>\n",
       "      <th>Month</th>\n",
       "    </tr>\n",
       "  </thead>\n",
       "  <tbody>\n",
       "    <tr>\n",
       "      <th>count</th>\n",
       "      <td>1032.000000</td>\n",
       "      <td>1032.000000</td>\n",
       "    </tr>\n",
       "    <tr>\n",
       "      <th>mean</th>\n",
       "      <td>21.556286</td>\n",
       "      <td>6.500000</td>\n",
       "    </tr>\n",
       "    <tr>\n",
       "      <th>std</th>\n",
       "      <td>4.939981</td>\n",
       "      <td>3.453726</td>\n",
       "    </tr>\n",
       "    <tr>\n",
       "      <th>min</th>\n",
       "      <td>12.438500</td>\n",
       "      <td>1.000000</td>\n",
       "    </tr>\n",
       "    <tr>\n",
       "      <th>25%</th>\n",
       "      <td>16.740875</td>\n",
       "      <td>3.750000</td>\n",
       "    </tr>\n",
       "    <tr>\n",
       "      <th>50%</th>\n",
       "      <td>22.047650</td>\n",
       "      <td>6.500000</td>\n",
       "    </tr>\n",
       "    <tr>\n",
       "      <th>75%</th>\n",
       "      <td>26.318900</td>\n",
       "      <td>9.250000</td>\n",
       "    </tr>\n",
       "    <tr>\n",
       "      <th>max</th>\n",
       "      <td>29.476100</td>\n",
       "      <td>12.000000</td>\n",
       "    </tr>\n",
       "  </tbody>\n",
       "</table>\n",
       "</div>"
      ],
      "text/plain": [
       "              Temp        Month\n",
       "count  1032.000000  1032.000000\n",
       "mean     21.556286     6.500000\n",
       "std       4.939981     3.453726\n",
       "min      12.438500     1.000000\n",
       "25%      16.740875     3.750000\n",
       "50%      22.047650     6.500000\n",
       "75%      26.318900     9.250000\n",
       "max      29.476100    12.000000"
      ]
     },
     "execution_count": 19,
     "metadata": {},
     "output_type": "execute_result"
    }
   ],
   "source": [
    "month_temp.describe()"
   ]
  },
  {
   "cell_type": "code",
   "execution_count": 20,
   "metadata": {},
   "outputs": [
    {
     "data": {
      "text/plain": [
       "<matplotlib.axes._subplots.AxesSubplot at 0x239e87484c8>"
      ]
     },
     "execution_count": 20,
     "metadata": {},
     "output_type": "execute_result"
    },
    {
     "data": {
      "image/png": "[encoded data removed]",
      "text/plain": [
       "<Figure size 432x288 with 1 Axes>"
      ]
     },
     "metadata": {
      "needs_background": "light"
     },
     "output_type": "display_data"
    }
   ],
   "source": [
    "#To see the average temperature by month\n",
    "\n",
    "month_temp = temp.drop(columns = {\"Year\",\"Date\"})\n",
    "month_temp= temp.groupby(\"Month\")[\"Temp\"].mean().reset_index(name=\"Avg_Temp\")\n",
    "\n",
    "sns.barplot(data=month_temp, x=\"Month\", y=\"Avg_Temp\")"
   ]
  },
  {
   "cell_type": "code",
   "execution_count": 21,
   "metadata": {},
   "outputs": [
    {
     "data": {
      "text/plain": [
       "[<matplotlib.lines.Line2D at 0x239e881b548>]"
      ]
     },
     "execution_count": 21,
     "metadata": {},
     "output_type": "execute_result"
    },
    {
     "data": {
      "image/png": "[encoded data removed]",
      "text/plain": [
       "<Figure size 432x288 with 1 Axes>"
      ]
     },
     "metadata": {
      "needs_background": "light"
     },
     "output_type": "display_data"
    }
   ],
   "source": [
    "#convert to 3 years mean value, just to make the trend look better\n",
    "three_years_temp = year_temp.groupby(year_temp.index//3)[\"Avg_Temp\"].mean()\n",
    "three_years_temp = three_years_temp.rename(index = lambda x: x*3+1931)\n",
    "plt.plot(three_years_temp)"
   ]
  },
  {
   "cell_type": "code",
   "execution_count": 22,
   "metadata": {},
   "outputs": [
    {
     "data": {
      "text/plain": [
       "<matplotlib.axes._subplots.AxesSubplot at 0x239e8865488>"
      ]
     },
     "execution_count": 22,
     "metadata": {},
     "output_type": "execute_result"
    },
    {
     "data": {
      "image/png": "[encoded data removed]",
      "text/plain": [
       "<Figure size 432x288 with 1 Axes>"
      ]
     },
     "metadata": {
      "needs_background": "light"
     },
     "output_type": "display_data"
    }
   ],
   "source": [
    "season = temp\n",
    "season[\"Season\"] = season[\"Month\"].apply(lambda x: AusSeason(x))\n",
    "\n",
    "#Group temperature by Season\n",
    "season_temp = season.drop(columns={\"Month\",\"Date\"})\n",
    "season_temp = season_temp.groupby([\"Year\",\"Season\"])[\"Temp\"].mean().reset_index(name=\"Season_Temp\")\n",
    "\n",
    "sns.boxplot(season_temp[\"Season\"],season_temp[\"Season_Temp\"])"
   ]
  },
  {
   "cell_type": "code",
   "execution_count": 23,
   "metadata": {},
   "outputs": [
    {
     "data": {
      "text/plain": [
       "<matplotlib.axes._subplots.AxesSubplot at 0x239e88ea7c8>"
      ]
     },
     "execution_count": 23,
     "metadata": {},
     "output_type": "execute_result"
    },
    {
     "data": {
      "image/png": "[encoded data removed]",
      "text/plain": [
       "<Figure size 432x288 with 1 Axes>"
      ]
     },
     "metadata": {
      "needs_background": "light"
     },
     "output_type": "display_data"
    }
   ],
   "source": [
    "sns.barplot(season_temp[\"Season\"],season_temp[\"Season_Temp\"])"
   ]
  },
  {
   "cell_type": "markdown",
   "metadata": {},
   "source": [
    "# ..................................................................................................."
   ]
  },
  {
   "cell_type": "markdown",
   "metadata": {},
   "source": [
    "# EDA on both rain & temp dataset"
   ]
  },
  {
   "cell_type": "code",
   "execution_count": 24,
   "metadata": {},
   "outputs": [
    {
     "data": {
      "text/html": [
       "<div>\n",
       "<style scoped>\n",
       "    .dataframe tbody tr th:only-of-type {\n",
       "        vertical-align: middle;\n",
       "    }\n",
       "\n",
       "    .dataframe tbody tr th {\n",
       "        vertical-align: top;\n",
       "    }\n",
       "\n",
       "    .dataframe thead th {\n",
       "        text-align: right;\n",
       "    }\n",
       "</style>\n",
       "<table border=\"1\" class=\"dataframe\">\n",
       "  <thead>\n",
       "    <tr style=\"text-align: right;\">\n",
       "      <th></th>\n",
       "      <th>Date</th>\n",
       "      <th>Rain</th>\n",
       "      <th>Temp</th>\n",
       "    </tr>\n",
       "  </thead>\n",
       "  <tbody>\n",
       "    <tr>\n",
       "      <th>0</th>\n",
       "      <td>1931-01-01</td>\n",
       "      <td>66.5787</td>\n",
       "      <td>27.2266</td>\n",
       "    </tr>\n",
       "    <tr>\n",
       "      <th>1</th>\n",
       "      <td>1931-02-01</td>\n",
       "      <td>25.4511</td>\n",
       "      <td>26.8663</td>\n",
       "    </tr>\n",
       "    <tr>\n",
       "      <th>2</th>\n",
       "      <td>1931-03-01</td>\n",
       "      <td>68.4952</td>\n",
       "      <td>25.0509</td>\n",
       "    </tr>\n",
       "    <tr>\n",
       "      <th>3</th>\n",
       "      <td>1931-04-01</td>\n",
       "      <td>46.4497</td>\n",
       "      <td>21.1358</td>\n",
       "    </tr>\n",
       "    <tr>\n",
       "      <th>4</th>\n",
       "      <td>1931-05-01</td>\n",
       "      <td>41.6500</td>\n",
       "      <td>17.5750</td>\n",
       "    </tr>\n",
       "  </tbody>\n",
       "</table>\n",
       "</div>"
      ],
      "text/plain": [
       "        Date     Rain     Temp\n",
       "0 1931-01-01  66.5787  27.2266\n",
       "1 1931-02-01  25.4511  26.8663\n",
       "2 1931-03-01  68.4952  25.0509\n",
       "3 1931-04-01  46.4497  21.1358\n",
       "4 1931-05-01  41.6500  17.5750"
      ]
     },
     "execution_count": 24,
     "metadata": {},
     "output_type": "execute_result"
    }
   ],
   "source": [
    "#Inner Join two datasets on column Date\n",
    "dataset = pd.merge(rain,temp,how=\"inner\",on=\"Date\")\n",
    "#Change column order\n",
    "dataset = dataset[[\"Date\", \"Rain\",\"Temp\"]]\n",
    "\n",
    "dataset.head()"
   ]
  },
  {
   "cell_type": "code",
   "execution_count": 25,
   "metadata": {},
   "outputs": [
    {
     "data": {
      "text/plain": [
       "<seaborn.axisgrid.JointGrid at 0x239e897f588>"
      ]
     },
     "execution_count": 25,
     "metadata": {},
     "output_type": "execute_result"
    },
    {
     "data": {
      "image/png": "[encoded data removed]",
      "text/plain": [
       "<Figure size 432x432 with 3 Axes>"
      ]
     },
     "metadata": {
      "needs_background": "light"
     },
     "output_type": "display_data"
    }
   ],
   "source": [
    "sns.jointplot(dataset[\"Temp\"],dataset[\"Rain\"], kind =\"reg\", joint_kws = {\"line_kws\":{\"color\":\"red\"}})"
   ]
  },
  {
   "cell_type": "code",
   "execution_count": 26,
   "metadata": {},
   "outputs": [
    {
     "data": {
      "text/plain": [
       "array([[1.        , 0.60941938],\n",
       "       [0.60941938, 1.        ]])"
      ]
     },
     "execution_count": 26,
     "metadata": {},
     "output_type": "execute_result"
    }
   ],
   "source": [
    "import numpy as np\n",
    "np.corrcoef(dataset[\"Temp\"],dataset[\"Rain\"])"
   ]
  },
  {
   "cell_type": "markdown",
   "metadata": {},
   "source": [
    "# ==============================================="
   ]
  },
  {
   "cell_type": "markdown",
   "metadata": {},
   "source": [
    "# Create new datasets ready for forecasting"
   ]
  },
  {
   "cell_type": "code",
   "execution_count": 27,
   "metadata": {},
   "outputs": [
    {
     "data": {
      "text/html": [
       "<div>\n",
       "<style scoped>\n",
       "    .dataframe tbody tr th:only-of-type {\n",
       "        vertical-align: middle;\n",
       "    }\n",
       "\n",
       "    .dataframe tbody tr th {\n",
       "        vertical-align: top;\n",
       "    }\n",
       "\n",
       "    .dataframe thead th {\n",
       "        text-align: right;\n",
       "    }\n",
       "</style>\n",
       "<table border=\"1\" class=\"dataframe\">\n",
       "  <thead>\n",
       "    <tr style=\"text-align: right;\">\n",
       "      <th></th>\n",
       "      <th>Rain</th>\n",
       "    </tr>\n",
       "    <tr>\n",
       "      <th>Date</th>\n",
       "      <th></th>\n",
       "    </tr>\n",
       "  </thead>\n",
       "  <tbody>\n",
       "    <tr>\n",
       "      <th>1931-01-01</th>\n",
       "      <td>66.5787</td>\n",
       "    </tr>\n",
       "    <tr>\n",
       "      <th>1931-02-01</th>\n",
       "      <td>25.4511</td>\n",
       "    </tr>\n",
       "    <tr>\n",
       "      <th>1931-03-01</th>\n",
       "      <td>68.4952</td>\n",
       "    </tr>\n",
       "    <tr>\n",
       "      <th>1931-04-01</th>\n",
       "      <td>46.4497</td>\n",
       "    </tr>\n",
       "    <tr>\n",
       "      <th>1931-05-01</th>\n",
       "      <td>41.6500</td>\n",
       "    </tr>\n",
       "  </tbody>\n",
       "</table>\n",
       "</div>"
      ],
      "text/plain": [
       "               Rain\n",
       "Date               \n",
       "1931-01-01  66.5787\n",
       "1931-02-01  25.4511\n",
       "1931-03-01  68.4952\n",
       "1931-04-01  46.4497\n",
       "1931-05-01  41.6500"
      ]
     },
     "execution_count": 27,
     "metadata": {},
     "output_type": "execute_result"
    }
   ],
   "source": [
    "#Clean rain data column\n",
    "rain_data = rain[[\"Rain\",\"Date\"]]\n",
    "rain_data.index = rain_data[\"Date\"]\n",
    "rain_data = rain_data.drop(columns = \"Date\")\n",
    "rain_data.head()"
   ]
  },
  {
   "cell_type": "code",
   "execution_count": 28,
   "metadata": {},
   "outputs": [
    {
     "data": {
      "text/html": [
       "<div>\n",
       "<style scoped>\n",
       "    .dataframe tbody tr th:only-of-type {\n",
       "        vertical-align: middle;\n",
       "    }\n",
       "\n",
       "    .dataframe tbody tr th {\n",
       "        vertical-align: top;\n",
       "    }\n",
       "\n",
       "    .dataframe thead th {\n",
       "        text-align: right;\n",
       "    }\n",
       "</style>\n",
       "<table border=\"1\" class=\"dataframe\">\n",
       "  <thead>\n",
       "    <tr style=\"text-align: right;\">\n",
       "      <th></th>\n",
       "      <th>Temp</th>\n",
       "    </tr>\n",
       "    <tr>\n",
       "      <th>Date</th>\n",
       "      <th></th>\n",
       "    </tr>\n",
       "  </thead>\n",
       "  <tbody>\n",
       "    <tr>\n",
       "      <th>1931-01-01</th>\n",
       "      <td>27.2266</td>\n",
       "    </tr>\n",
       "    <tr>\n",
       "      <th>1931-02-01</th>\n",
       "      <td>26.8663</td>\n",
       "    </tr>\n",
       "    <tr>\n",
       "      <th>1931-03-01</th>\n",
       "      <td>25.0509</td>\n",
       "    </tr>\n",
       "    <tr>\n",
       "      <th>1931-04-01</th>\n",
       "      <td>21.1358</td>\n",
       "    </tr>\n",
       "    <tr>\n",
       "      <th>1931-05-01</th>\n",
       "      <td>17.5750</td>\n",
       "    </tr>\n",
       "  </tbody>\n",
       "</table>\n",
       "</div>"
      ],
      "text/plain": [
       "               Temp\n",
       "Date               \n",
       "1931-01-01  27.2266\n",
       "1931-02-01  26.8663\n",
       "1931-03-01  25.0509\n",
       "1931-04-01  21.1358\n",
       "1931-05-01  17.5750"
      ]
     },
     "execution_count": 28,
     "metadata": {},
     "output_type": "execute_result"
    }
   ],
   "source": [
    "#Clean temp data column\n",
    "temp_data = temp[[\"Temp\",\"Date\"]]\n",
    "temp_data.index = temp_data[\"Date\"]\n",
    "temp_data = temp_data.drop(columns = \"Date\")\n",
    "temp_data.head()"
   ]
  },
  {
   "cell_type": "markdown",
   "metadata": {},
   "source": [
    "# ==============================================="
   ]
  },
  {
   "cell_type": "markdown",
   "metadata": {},
   "source": [
    "# Forecasting on temp monthly dataset using Exponential Smoothing"
   ]
  },
  {
   "cell_type": "code",
   "execution_count": 29,
   "metadata": {},
   "outputs": [
    {
     "name": "stderr",
     "output_type": "stream",
     "text": [
      "C:\\Users\\Jimmy Yang\\anaconda3\\lib\\site-packages\\statsmodels\\tsa\\base\\tsa_model.py:162: ValueWarning: No frequency information was provided, so inferred frequency MS will be used.\n",
      "  % freq, ValueWarning)\n",
      "C:\\Users\\Jimmy Yang\\anaconda3\\lib\\site-packages\\statsmodels\\tsa\\holtwinters.py:725: RuntimeWarning: invalid value encountered in less_equal\n",
      "  loc = initial_p <= lb\n",
      "C:\\Users\\Jimmy Yang\\anaconda3\\lib\\site-packages\\statsmodels\\tsa\\holtwinters.py:731: RuntimeWarning: invalid value encountered in greater_equal\n",
      "  loc = initial_p >= ub\n"
     ]
    }
   ],
   "source": [
    "#Forecasting temperature dataset first\n",
    "#Using Exponential Smoothing method\n",
    "#split data to train and test, 96 months (8 years) for test (around 10/90 split)\n",
    "\n",
    "train = temp_data.iloc[:936]\n",
    "test = temp_data.iloc[936:]\n",
    "\n",
    "from statsmodels.tsa.holtwinters import ExponentialSmoothing\n",
    "\n",
    "fit = ExponentialSmoothing(train, seasonal =\"add\",seasonal_periods = 12).fit()"
   ]
  },
  {
   "cell_type": "code",
   "execution_count": 30,
   "metadata": {},
   "outputs": [
    {
     "name": "stdout",
     "output_type": "stream",
     "text": [
      "0.658002248331387\n"
     ]
    }
   ],
   "source": [
    "#Evaluate the result for forecasting\n",
    "Eforecast = fit.forecast(96)\n",
    "\n",
    "evaluate = pd.DataFrame({\n",
    "    \"forecast\" : Eforecast.values,\n",
    "    \"actual\" :test[\"Temp\"]    \n",
    "})\n",
    "\n",
    "evaluate[\"error\"] =  evaluate[\"actual\"] - evaluate[\"forecast\"]\n",
    "evaluate[\"sqrt_error\"] = evaluate[\"error\"]**2\n",
    "\n",
    "mean_error = evaluate[\"sqrt_error\"].mean()\n",
    "print(mean_error)"
   ]
  },
  {
   "cell_type": "code",
   "execution_count": 31,
   "metadata": {},
   "outputs": [
    {
     "data": {
      "text/html": [
       "<div>\n",
       "<style scoped>\n",
       "    .dataframe tbody tr th:only-of-type {\n",
       "        vertical-align: middle;\n",
       "    }\n",
       "\n",
       "    .dataframe tbody tr th {\n",
       "        vertical-align: top;\n",
       "    }\n",
       "\n",
       "    .dataframe thead th {\n",
       "        text-align: right;\n",
       "    }\n",
       "</style>\n",
       "<table border=\"1\" class=\"dataframe\">\n",
       "  <thead>\n",
       "    <tr style=\"text-align: right;\">\n",
       "      <th></th>\n",
       "      <th>forecast</th>\n",
       "      <th>actual</th>\n",
       "      <th>error</th>\n",
       "      <th>sqrt_error</th>\n",
       "    </tr>\n",
       "    <tr>\n",
       "      <th>Date</th>\n",
       "      <th></th>\n",
       "      <th></th>\n",
       "      <th></th>\n",
       "      <th></th>\n",
       "    </tr>\n",
       "  </thead>\n",
       "  <tbody>\n",
       "    <tr>\n",
       "      <th>2009-01-01</th>\n",
       "      <td>28.269699</td>\n",
       "      <td>28.2459</td>\n",
       "      <td>-0.023799</td>\n",
       "      <td>0.000566</td>\n",
       "    </tr>\n",
       "    <tr>\n",
       "      <th>2009-02-01</th>\n",
       "      <td>27.564833</td>\n",
       "      <td>27.5856</td>\n",
       "      <td>0.020767</td>\n",
       "      <td>0.000431</td>\n",
       "    </tr>\n",
       "    <tr>\n",
       "      <th>2009-03-01</th>\n",
       "      <td>25.813905</td>\n",
       "      <td>25.7929</td>\n",
       "      <td>-0.021005</td>\n",
       "      <td>0.000441</td>\n",
       "    </tr>\n",
       "    <tr>\n",
       "      <th>2009-04-01</th>\n",
       "      <td>22.189997</td>\n",
       "      <td>22.3415</td>\n",
       "      <td>0.151503</td>\n",
       "      <td>0.022953</td>\n",
       "    </tr>\n",
       "    <tr>\n",
       "      <th>2009-05-01</th>\n",
       "      <td>18.259049</td>\n",
       "      <td>17.7504</td>\n",
       "      <td>-0.508649</td>\n",
       "      <td>0.258723</td>\n",
       "    </tr>\n",
       "  </tbody>\n",
       "</table>\n",
       "</div>"
      ],
      "text/plain": [
       "             forecast   actual     error  sqrt_error\n",
       "Date                                                \n",
       "2009-01-01  28.269699  28.2459 -0.023799    0.000566\n",
       "2009-02-01  27.564833  27.5856  0.020767    0.000431\n",
       "2009-03-01  25.813905  25.7929 -0.021005    0.000441\n",
       "2009-04-01  22.189997  22.3415  0.151503    0.022953\n",
       "2009-05-01  18.259049  17.7504 -0.508649    0.258723"
      ]
     },
     "execution_count": 31,
     "metadata": {},
     "output_type": "execute_result"
    }
   ],
   "source": [
    "evaluate.head()"
   ]
  },
  {
   "cell_type": "code",
   "execution_count": 32,
   "metadata": {},
   "outputs": [
    {
     "data": {
      "text/plain": [
       "Text(0, 0.5, 'Temp')"
      ]
     },
     "execution_count": 32,
     "metadata": {},
     "output_type": "execute_result"
    },
    {
     "data": {
      "image/png": "[encoded data removed]",
      "text/plain": [
       "<Figure size 432x288 with 1 Axes>"
      ]
     },
     "metadata": {
      "needs_background": "light"
     },
     "output_type": "display_data"
    }
   ],
   "source": [
    "#Use the last 48 months of temp data to plot for comparision \n",
    "cur_temp = temp_data[-120:]\n",
    "plt.plot(cur_temp)\n",
    "plt.plot(Eforecast)\n",
    "plt.xlabel(\"Year\")\n",
    "plt.ylabel(\"Temp\")"
   ]
  },
  {
   "cell_type": "markdown",
   "metadata": {},
   "source": [
    "# ...................................................................................................\n"
   ]
  },
  {
   "cell_type": "markdown",
   "metadata": {},
   "source": [
    "# Forecasting on temp monthly dataset using Facebook's Prophet"
   ]
  },
  {
   "cell_type": "code",
   "execution_count": 33,
   "metadata": {},
   "outputs": [
    {
     "name": "stderr",
     "output_type": "stream",
     "text": [
      "C:\\Users\\Jimmy Yang\\anaconda3\\lib\\site-packages\\ipykernel_launcher.py:5: SettingWithCopyWarning: \n",
      "A value is trying to be set on a copy of a slice from a DataFrame.\n",
      "Try using .loc[row_indexer,col_indexer] = value instead\n",
      "\n",
      "See the caveats in the documentation: https://pandas.pydata.org/pandas-docs/stable/user_guide/indexing.html#returning-a-view-versus-a-copy\n",
      "  \"\"\"\n",
      "C:\\Users\\Jimmy Yang\\anaconda3\\lib\\site-packages\\ipykernel_launcher.py:6: SettingWithCopyWarning: \n",
      "A value is trying to be set on a copy of a slice from a DataFrame.\n",
      "Try using .loc[row_indexer,col_indexer] = value instead\n",
      "\n",
      "See the caveats in the documentation: https://pandas.pydata.org/pandas-docs/stable/user_guide/indexing.html#returning-a-view-versus-a-copy\n",
      "  \n",
      "INFO:fbprophet:Disabling weekly seasonality. Run prophet with weekly_seasonality=True to override this.\n",
      "INFO:fbprophet:Disabling daily seasonality. Run prophet with daily_seasonality=True to override this.\n"
     ]
    },
    {
     "data": {
      "text/plain": [
       "<fbprophet.forecaster.Prophet at 0x239e91d5548>"
      ]
     },
     "execution_count": 33,
     "metadata": {},
     "output_type": "execute_result"
    }
   ],
   "source": [
    "#Facebook's Phrphet requires to have ds and y column for forecasting, so, I just do some cleaning\n",
    "from fbprophet import Prophet\n",
    "\n",
    "fb_temp = train\n",
    "fb_temp[\"ds\"] = train.index\n",
    "fb_temp[\"y\"] = train[\"Temp\"]\n",
    "fb_temp = fb_temp.reset_index()\n",
    "fb_temp = fb_temp.drop(columns={\"Temp\",\"Date\"})\n",
    "\n",
    "#we fit data for machine to learn\n",
    "m = Prophet()\n",
    "m.fit(fb_temp)"
   ]
  },
  {
   "cell_type": "code",
   "execution_count": 34,
   "metadata": {},
   "outputs": [
    {
     "data": {
      "image/png": "[encoded data removed]",
      "text/plain": [
       "<Figure size 648x432 with 2 Axes>"
      ]
     },
     "metadata": {},
     "output_type": "display_data"
    }
   ],
   "source": [
    "#We make a dataframe for 96 months, this is made ready for forecast/prediction\n",
    "\n",
    "future = m.make_future_dataframe(periods=96)\n",
    "forecast = m.predict(future)\n",
    "\n",
    "#visualise by using forecast data\n",
    "fig2 = m.plot_components(forecast)"
   ]
  },
  {
   "cell_type": "code",
   "execution_count": 35,
   "metadata": {},
   "outputs": [
    {
     "name": "stdout",
     "output_type": "stream",
     "text": [
      "24.483766449684065\n"
     ]
    }
   ],
   "source": [
    "#Time to evaluate the forecast data with test dataset(real data)\n",
    "forecast_trend = forecast[\"trend\"].iloc[-96:].values\n",
    "\n",
    "evaluate = pd.DataFrame({\n",
    "    \"forecast\" : forecast_trend,\n",
    "    \"actual\" :test[\"Temp\"]    \n",
    "})\n",
    "evaluate[\"error\"] =  evaluate[\"actual\"] - evaluate[\"forecast\"]\n",
    "evaluate[\"sqrt_error\"] = evaluate[\"error\"]**2\n",
    "\n",
    "mean_error = evaluate[\"sqrt_error\"].mean()\n",
    "print(mean_error)"
   ]
  },
  {
   "cell_type": "code",
   "execution_count": 36,
   "metadata": {},
   "outputs": [
    {
     "data": {
      "text/plain": [
       "Text(0, 0.5, 'Temp')"
      ]
     },
     "execution_count": 36,
     "metadata": {},
     "output_type": "execute_result"
    },
    {
     "data": {
      "image/png": "[encoded data removed]",
      "text/plain": [
       "<Figure size 432x288 with 1 Axes>"
      ]
     },
     "metadata": {
      "needs_background": "light"
     },
     "output_type": "display_data"
    }
   ],
   "source": [
    "#Use the last 48 months of temp data to plot for comparision \n",
    "plt.plot(cur_temp)\n",
    "plt.plot(evaluate[\"forecast\"])\n",
    "plt.xlabel(\"Year\")\n",
    "plt.ylabel(\"Temp\")"
   ]
  },
  {
   "cell_type": "code",
   "execution_count": 37,
   "metadata": {},
   "outputs": [
    {
     "data": {
      "text/html": [
       "<div>\n",
       "<style scoped>\n",
       "    .dataframe tbody tr th:only-of-type {\n",
       "        vertical-align: middle;\n",
       "    }\n",
       "\n",
       "    .dataframe tbody tr th {\n",
       "        vertical-align: top;\n",
       "    }\n",
       "\n",
       "    .dataframe thead th {\n",
       "        text-align: right;\n",
       "    }\n",
       "</style>\n",
       "<table border=\"1\" class=\"dataframe\">\n",
       "  <thead>\n",
       "    <tr style=\"text-align: right;\">\n",
       "      <th></th>\n",
       "      <th>forecast</th>\n",
       "      <th>actual</th>\n",
       "      <th>error</th>\n",
       "      <th>sqrt_error</th>\n",
       "    </tr>\n",
       "    <tr>\n",
       "      <th>Date</th>\n",
       "      <th></th>\n",
       "      <th></th>\n",
       "      <th></th>\n",
       "      <th></th>\n",
       "    </tr>\n",
       "  </thead>\n",
       "  <tbody>\n",
       "    <tr>\n",
       "      <th>2016-01-01</th>\n",
       "      <td>22.040576</td>\n",
       "      <td>28.3713</td>\n",
       "      <td>6.330724</td>\n",
       "      <td>40.078063</td>\n",
       "    </tr>\n",
       "    <tr>\n",
       "      <th>2016-02-01</th>\n",
       "      <td>22.040621</td>\n",
       "      <td>28.3060</td>\n",
       "      <td>6.265379</td>\n",
       "      <td>39.254978</td>\n",
       "    </tr>\n",
       "    <tr>\n",
       "      <th>2016-03-01</th>\n",
       "      <td>22.040665</td>\n",
       "      <td>27.0285</td>\n",
       "      <td>4.987835</td>\n",
       "      <td>24.878497</td>\n",
       "    </tr>\n",
       "    <tr>\n",
       "      <th>2016-04-01</th>\n",
       "      <td>22.040710</td>\n",
       "      <td>23.8023</td>\n",
       "      <td>1.761590</td>\n",
       "      <td>3.103201</td>\n",
       "    </tr>\n",
       "    <tr>\n",
       "      <th>2016-05-01</th>\n",
       "      <td>22.040754</td>\n",
       "      <td>19.6843</td>\n",
       "      <td>-2.356454</td>\n",
       "      <td>5.552875</td>\n",
       "    </tr>\n",
       "    <tr>\n",
       "      <th>2016-06-01</th>\n",
       "      <td>22.040798</td>\n",
       "      <td>16.0292</td>\n",
       "      <td>-6.011598</td>\n",
       "      <td>36.139315</td>\n",
       "    </tr>\n",
       "    <tr>\n",
       "      <th>2016-07-01</th>\n",
       "      <td>22.040843</td>\n",
       "      <td>14.8634</td>\n",
       "      <td>-7.177443</td>\n",
       "      <td>51.515685</td>\n",
       "    </tr>\n",
       "    <tr>\n",
       "      <th>2016-08-01</th>\n",
       "      <td>22.040887</td>\n",
       "      <td>16.1341</td>\n",
       "      <td>-5.906787</td>\n",
       "      <td>34.890135</td>\n",
       "    </tr>\n",
       "    <tr>\n",
       "      <th>2016-09-01</th>\n",
       "      <td>22.040932</td>\n",
       "      <td>18.8000</td>\n",
       "      <td>-3.240932</td>\n",
       "      <td>10.503638</td>\n",
       "    </tr>\n",
       "    <tr>\n",
       "      <th>2016-10-01</th>\n",
       "      <td>22.040976</td>\n",
       "      <td>22.0308</td>\n",
       "      <td>-0.010176</td>\n",
       "      <td>0.000104</td>\n",
       "    </tr>\n",
       "    <tr>\n",
       "      <th>2016-11-01</th>\n",
       "      <td>22.041021</td>\n",
       "      <td>25.7045</td>\n",
       "      <td>3.663479</td>\n",
       "      <td>13.421082</td>\n",
       "    </tr>\n",
       "    <tr>\n",
       "      <th>2016-12-01</th>\n",
       "      <td>22.041065</td>\n",
       "      <td>27.5676</td>\n",
       "      <td>5.526535</td>\n",
       "      <td>30.542590</td>\n",
       "    </tr>\n",
       "  </tbody>\n",
       "</table>\n",
       "</div>"
      ],
      "text/plain": [
       "             forecast   actual     error  sqrt_error\n",
       "Date                                                \n",
       "2016-01-01  22.040576  28.3713  6.330724   40.078063\n",
       "2016-02-01  22.040621  28.3060  6.265379   39.254978\n",
       "2016-03-01  22.040665  27.0285  4.987835   24.878497\n",
       "2016-04-01  22.040710  23.8023  1.761590    3.103201\n",
       "2016-05-01  22.040754  19.6843 -2.356454    5.552875\n",
       "2016-06-01  22.040798  16.0292 -6.011598   36.139315\n",
       "2016-07-01  22.040843  14.8634 -7.177443   51.515685\n",
       "2016-08-01  22.040887  16.1341 -5.906787   34.890135\n",
       "2016-09-01  22.040932  18.8000 -3.240932   10.503638\n",
       "2016-10-01  22.040976  22.0308 -0.010176    0.000104\n",
       "2016-11-01  22.041021  25.7045  3.663479   13.421082\n",
       "2016-12-01  22.041065  27.5676  5.526535   30.542590"
      ]
     },
     "execution_count": 37,
     "metadata": {},
     "output_type": "execute_result"
    }
   ],
   "source": [
    "evaluate.iloc[-12:]"
   ]
  },
  {
   "cell_type": "markdown",
   "metadata": {},
   "source": [
    "# ..................................................................................................."
   ]
  },
  {
   "cell_type": "markdown",
   "metadata": {},
   "source": [
    "# Forecasting on temp monthly dataset using ARIMA"
   ]
  },
  {
   "cell_type": "code",
   "execution_count": 38,
   "metadata": {},
   "outputs": [
    {
     "name": "stderr",
     "output_type": "stream",
     "text": [
      "C:\\Users\\Jimmy Yang\\anaconda3\\lib\\site-packages\\statsmodels\\tsa\\base\\tsa_model.py:162: ValueWarning: No frequency information was provided, so inferred frequency MS will be used.\n",
      "  % freq, ValueWarning)\n",
      "C:\\Users\\Jimmy Yang\\anaconda3\\lib\\site-packages\\statsmodels\\tsa\\base\\tsa_model.py:162: ValueWarning: No frequency information was provided, so inferred frequency MS will be used.\n",
      "  % freq, ValueWarning)\n",
      "C:\\Users\\Jimmy Yang\\anaconda3\\lib\\site-packages\\statsmodels\\tsa\\base\\tsa_model.py:162: ValueWarning: No frequency information was provided, so inferred frequency MS will be used.\n",
      "  % freq, ValueWarning)\n"
     ]
    },
    {
     "name": "stdout",
     "output_type": "stream",
     "text": [
      "7.595658643383054\n"
     ]
    }
   ],
   "source": [
    "from statsmodels.tsa.arima.model import ARIMA\n",
    "\n",
    "train = temp_data.iloc[:936]\n",
    "test = temp_data.iloc[936:]\n",
    "\n",
    "fit = ARIMA (train, order= (5,1,1),seasonal_order = (0,0,1,12)).fit()\n",
    "forecast = fit.forecast(96)\n",
    "\n",
    "evaluate = pd.DataFrame({\n",
    "    \"forecast\": forecast.values,\n",
    "    \"actual\": test[\"Temp\"]\n",
    "})\n",
    "\n",
    "evaluate[\"error\"] = evaluate[\"actual\"] - evaluate[\"forecast\"]\n",
    "evaluate[\"sqrt_err\"] = evaluate[\"error\"]**2\n",
    "\n",
    "print(evaluate[\"sqrt_err\"].mean())"
   ]
  },
  {
   "cell_type": "code",
   "execution_count": 39,
   "metadata": {},
   "outputs": [
    {
     "data": {
      "text/html": [
       "<div>\n",
       "<style scoped>\n",
       "    .dataframe tbody tr th:only-of-type {\n",
       "        vertical-align: middle;\n",
       "    }\n",
       "\n",
       "    .dataframe tbody tr th {\n",
       "        vertical-align: top;\n",
       "    }\n",
       "\n",
       "    .dataframe thead th {\n",
       "        text-align: right;\n",
       "    }\n",
       "</style>\n",
       "<table border=\"1\" class=\"dataframe\">\n",
       "  <thead>\n",
       "    <tr style=\"text-align: right;\">\n",
       "      <th></th>\n",
       "      <th>forecast</th>\n",
       "      <th>actual</th>\n",
       "      <th>error</th>\n",
       "      <th>sqrt_err</th>\n",
       "    </tr>\n",
       "    <tr>\n",
       "      <th>Date</th>\n",
       "      <th></th>\n",
       "      <th></th>\n",
       "      <th></th>\n",
       "      <th></th>\n",
       "    </tr>\n",
       "  </thead>\n",
       "  <tbody>\n",
       "    <tr>\n",
       "      <th>2016-01-01</th>\n",
       "      <td>23.981749</td>\n",
       "      <td>28.3713</td>\n",
       "      <td>4.389551</td>\n",
       "      <td>19.268160</td>\n",
       "    </tr>\n",
       "    <tr>\n",
       "      <th>2016-02-01</th>\n",
       "      <td>23.018919</td>\n",
       "      <td>28.3060</td>\n",
       "      <td>5.287081</td>\n",
       "      <td>27.953222</td>\n",
       "    </tr>\n",
       "    <tr>\n",
       "      <th>2016-03-01</th>\n",
       "      <td>21.772595</td>\n",
       "      <td>27.0285</td>\n",
       "      <td>5.255905</td>\n",
       "      <td>27.624533</td>\n",
       "    </tr>\n",
       "    <tr>\n",
       "      <th>2016-04-01</th>\n",
       "      <td>20.585114</td>\n",
       "      <td>23.8023</td>\n",
       "      <td>3.217186</td>\n",
       "      <td>10.350287</td>\n",
       "    </tr>\n",
       "    <tr>\n",
       "      <th>2016-05-01</th>\n",
       "      <td>19.776026</td>\n",
       "      <td>19.6843</td>\n",
       "      <td>-0.091726</td>\n",
       "      <td>0.008414</td>\n",
       "    </tr>\n",
       "    <tr>\n",
       "      <th>2016-06-01</th>\n",
       "      <td>19.556245</td>\n",
       "      <td>16.0292</td>\n",
       "      <td>-3.527045</td>\n",
       "      <td>12.440044</td>\n",
       "    </tr>\n",
       "    <tr>\n",
       "      <th>2016-07-01</th>\n",
       "      <td>19.973268</td>\n",
       "      <td>14.8634</td>\n",
       "      <td>-5.109868</td>\n",
       "      <td>26.110752</td>\n",
       "    </tr>\n",
       "    <tr>\n",
       "      <th>2016-08-01</th>\n",
       "      <td>20.901637</td>\n",
       "      <td>16.1341</td>\n",
       "      <td>-4.767537</td>\n",
       "      <td>22.729412</td>\n",
       "    </tr>\n",
       "    <tr>\n",
       "      <th>2016-09-01</th>\n",
       "      <td>22.080307</td>\n",
       "      <td>18.8000</td>\n",
       "      <td>-3.280307</td>\n",
       "      <td>10.760413</td>\n",
       "    </tr>\n",
       "    <tr>\n",
       "      <th>2016-10-01</th>\n",
       "      <td>23.185881</td>\n",
       "      <td>22.0308</td>\n",
       "      <td>-1.155081</td>\n",
       "      <td>1.334213</td>\n",
       "    </tr>\n",
       "    <tr>\n",
       "      <th>2016-11-01</th>\n",
       "      <td>23.921220</td>\n",
       "      <td>25.7045</td>\n",
       "      <td>1.783280</td>\n",
       "      <td>3.180089</td>\n",
       "    </tr>\n",
       "    <tr>\n",
       "      <th>2016-12-01</th>\n",
       "      <td>24.095163</td>\n",
       "      <td>27.5676</td>\n",
       "      <td>3.472437</td>\n",
       "      <td>12.057816</td>\n",
       "    </tr>\n",
       "  </tbody>\n",
       "</table>\n",
       "</div>"
      ],
      "text/plain": [
       "             forecast   actual     error   sqrt_err\n",
       "Date                                               \n",
       "2016-01-01  23.981749  28.3713  4.389551  19.268160\n",
       "2016-02-01  23.018919  28.3060  5.287081  27.953222\n",
       "2016-03-01  21.772595  27.0285  5.255905  27.624533\n",
       "2016-04-01  20.585114  23.8023  3.217186  10.350287\n",
       "2016-05-01  19.776026  19.6843 -0.091726   0.008414\n",
       "2016-06-01  19.556245  16.0292 -3.527045  12.440044\n",
       "2016-07-01  19.973268  14.8634 -5.109868  26.110752\n",
       "2016-08-01  20.901637  16.1341 -4.767537  22.729412\n",
       "2016-09-01  22.080307  18.8000 -3.280307  10.760413\n",
       "2016-10-01  23.185881  22.0308 -1.155081   1.334213\n",
       "2016-11-01  23.921220  25.7045  1.783280   3.180089\n",
       "2016-12-01  24.095163  27.5676  3.472437  12.057816"
      ]
     },
     "execution_count": 39,
     "metadata": {},
     "output_type": "execute_result"
    }
   ],
   "source": [
    "evaluate.iloc[-12:]"
   ]
  },
  {
   "cell_type": "code",
   "execution_count": 40,
   "metadata": {},
   "outputs": [
    {
     "data": {
      "text/html": [
       "<div>\n",
       "<style scoped>\n",
       "    .dataframe tbody tr th:only-of-type {\n",
       "        vertical-align: middle;\n",
       "    }\n",
       "\n",
       "    .dataframe tbody tr th {\n",
       "        vertical-align: top;\n",
       "    }\n",
       "\n",
       "    .dataframe thead th {\n",
       "        text-align: right;\n",
       "    }\n",
       "</style>\n",
       "<table border=\"1\" class=\"dataframe\">\n",
       "  <thead>\n",
       "    <tr style=\"text-align: right;\">\n",
       "      <th></th>\n",
       "      <th>forecast</th>\n",
       "      <th>actual</th>\n",
       "      <th>error</th>\n",
       "      <th>sqrt_err</th>\n",
       "    </tr>\n",
       "    <tr>\n",
       "      <th>Date</th>\n",
       "      <th></th>\n",
       "      <th></th>\n",
       "      <th></th>\n",
       "      <th></th>\n",
       "    </tr>\n",
       "  </thead>\n",
       "  <tbody>\n",
       "    <tr>\n",
       "      <th>2009-01-01</th>\n",
       "      <td>28.112645</td>\n",
       "      <td>28.2459</td>\n",
       "      <td>0.133255</td>\n",
       "      <td>0.017757</td>\n",
       "    </tr>\n",
       "    <tr>\n",
       "      <th>2009-02-01</th>\n",
       "      <td>26.131223</td>\n",
       "      <td>27.5856</td>\n",
       "      <td>1.454377</td>\n",
       "      <td>2.115212</td>\n",
       "    </tr>\n",
       "    <tr>\n",
       "      <th>2009-03-01</th>\n",
       "      <td>24.029017</td>\n",
       "      <td>25.7929</td>\n",
       "      <td>1.763883</td>\n",
       "      <td>3.111282</td>\n",
       "    </tr>\n",
       "    <tr>\n",
       "      <th>2009-04-01</th>\n",
       "      <td>20.893810</td>\n",
       "      <td>22.3415</td>\n",
       "      <td>1.447690</td>\n",
       "      <td>2.095806</td>\n",
       "    </tr>\n",
       "    <tr>\n",
       "      <th>2009-05-01</th>\n",
       "      <td>18.193648</td>\n",
       "      <td>17.7504</td>\n",
       "      <td>-0.443248</td>\n",
       "      <td>0.196469</td>\n",
       "    </tr>\n",
       "    <tr>\n",
       "      <th>2009-06-01</th>\n",
       "      <td>16.698864</td>\n",
       "      <td>15.4784</td>\n",
       "      <td>-1.220464</td>\n",
       "      <td>1.489531</td>\n",
       "    </tr>\n",
       "    <tr>\n",
       "      <th>2009-07-01</th>\n",
       "      <td>16.162041</td>\n",
       "      <td>14.7220</td>\n",
       "      <td>-1.440041</td>\n",
       "      <td>2.073718</td>\n",
       "    </tr>\n",
       "    <tr>\n",
       "      <th>2009-08-01</th>\n",
       "      <td>17.226217</td>\n",
       "      <td>17.7415</td>\n",
       "      <td>0.515283</td>\n",
       "      <td>0.265516</td>\n",
       "    </tr>\n",
       "    <tr>\n",
       "      <th>2009-09-01</th>\n",
       "      <td>20.298244</td>\n",
       "      <td>20.0771</td>\n",
       "      <td>-0.221144</td>\n",
       "      <td>0.048905</td>\n",
       "    </tr>\n",
       "    <tr>\n",
       "      <th>2009-10-01</th>\n",
       "      <td>23.245260</td>\n",
       "      <td>22.7646</td>\n",
       "      <td>-0.480660</td>\n",
       "      <td>0.231034</td>\n",
       "    </tr>\n",
       "    <tr>\n",
       "      <th>2009-11-01</th>\n",
       "      <td>25.264093</td>\n",
       "      <td>26.7958</td>\n",
       "      <td>1.531707</td>\n",
       "      <td>2.346128</td>\n",
       "    </tr>\n",
       "    <tr>\n",
       "      <th>2009-12-01</th>\n",
       "      <td>26.797393</td>\n",
       "      <td>27.7926</td>\n",
       "      <td>0.995207</td>\n",
       "      <td>0.990437</td>\n",
       "    </tr>\n",
       "    <tr>\n",
       "      <th>2010-01-01</th>\n",
       "      <td>26.972636</td>\n",
       "      <td>28.4772</td>\n",
       "      <td>1.504564</td>\n",
       "      <td>2.263713</td>\n",
       "    </tr>\n",
       "    <tr>\n",
       "      <th>2010-02-01</th>\n",
       "      <td>25.621574</td>\n",
       "      <td>27.8996</td>\n",
       "      <td>2.278026</td>\n",
       "      <td>5.189402</td>\n",
       "    </tr>\n",
       "    <tr>\n",
       "      <th>2010-03-01</th>\n",
       "      <td>23.317152</td>\n",
       "      <td>25.6140</td>\n",
       "      <td>2.296848</td>\n",
       "      <td>5.275511</td>\n",
       "    </tr>\n",
       "    <tr>\n",
       "      <th>2010-04-01</th>\n",
       "      <td>20.748057</td>\n",
       "      <td>23.1362</td>\n",
       "      <td>2.388143</td>\n",
       "      <td>5.703227</td>\n",
       "    </tr>\n",
       "    <tr>\n",
       "      <th>2010-05-01</th>\n",
       "      <td>18.495246</td>\n",
       "      <td>18.0890</td>\n",
       "      <td>-0.406246</td>\n",
       "      <td>0.165036</td>\n",
       "    </tr>\n",
       "    <tr>\n",
       "      <th>2010-06-01</th>\n",
       "      <td>17.199387</td>\n",
       "      <td>15.0195</td>\n",
       "      <td>-2.179887</td>\n",
       "      <td>4.751905</td>\n",
       "    </tr>\n",
       "    <tr>\n",
       "      <th>2010-07-01</th>\n",
       "      <td>17.215094</td>\n",
       "      <td>14.6815</td>\n",
       "      <td>-2.533594</td>\n",
       "      <td>6.419097</td>\n",
       "    </tr>\n",
       "    <tr>\n",
       "      <th>2010-08-01</th>\n",
       "      <td>18.496132</td>\n",
       "      <td>15.5530</td>\n",
       "      <td>-2.943132</td>\n",
       "      <td>8.662025</td>\n",
       "    </tr>\n",
       "    <tr>\n",
       "      <th>2010-09-01</th>\n",
       "      <td>20.660722</td>\n",
       "      <td>18.8901</td>\n",
       "      <td>-1.770622</td>\n",
       "      <td>3.135102</td>\n",
       "    </tr>\n",
       "    <tr>\n",
       "      <th>2010-10-01</th>\n",
       "      <td>23.119942</td>\n",
       "      <td>21.9421</td>\n",
       "      <td>-1.177842</td>\n",
       "      <td>1.387312</td>\n",
       "    </tr>\n",
       "    <tr>\n",
       "      <th>2010-11-01</th>\n",
       "      <td>25.201057</td>\n",
       "      <td>24.5987</td>\n",
       "      <td>-0.602357</td>\n",
       "      <td>0.362834</td>\n",
       "    </tr>\n",
       "    <tr>\n",
       "      <th>2010-12-01</th>\n",
       "      <td>26.346384</td>\n",
       "      <td>26.3258</td>\n",
       "      <td>-0.020584</td>\n",
       "      <td>0.000424</td>\n",
       "    </tr>\n",
       "  </tbody>\n",
       "</table>\n",
       "</div>"
      ],
      "text/plain": [
       "             forecast   actual     error  sqrt_err\n",
       "Date                                              \n",
       "2009-01-01  28.112645  28.2459  0.133255  0.017757\n",
       "2009-02-01  26.131223  27.5856  1.454377  2.115212\n",
       "2009-03-01  24.029017  25.7929  1.763883  3.111282\n",
       "2009-04-01  20.893810  22.3415  1.447690  2.095806\n",
       "2009-05-01  18.193648  17.7504 -0.443248  0.196469\n",
       "2009-06-01  16.698864  15.4784 -1.220464  1.489531\n",
       "2009-07-01  16.162041  14.7220 -1.440041  2.073718\n",
       "2009-08-01  17.226217  17.7415  0.515283  0.265516\n",
       "2009-09-01  20.298244  20.0771 -0.221144  0.048905\n",
       "2009-10-01  23.245260  22.7646 -0.480660  0.231034\n",
       "2009-11-01  25.264093  26.7958  1.531707  2.346128\n",
       "2009-12-01  26.797393  27.7926  0.995207  0.990437\n",
       "2010-01-01  26.972636  28.4772  1.504564  2.263713\n",
       "2010-02-01  25.621574  27.8996  2.278026  5.189402\n",
       "2010-03-01  23.317152  25.6140  2.296848  5.275511\n",
       "2010-04-01  20.748057  23.1362  2.388143  5.703227\n",
       "2010-05-01  18.495246  18.0890 -0.406246  0.165036\n",
       "2010-06-01  17.199387  15.0195 -2.179887  4.751905\n",
       "2010-07-01  17.215094  14.6815 -2.533594  6.419097\n",
       "2010-08-01  18.496132  15.5530 -2.943132  8.662025\n",
       "2010-09-01  20.660722  18.8901 -1.770622  3.135102\n",
       "2010-10-01  23.119942  21.9421 -1.177842  1.387312\n",
       "2010-11-01  25.201057  24.5987 -0.602357  0.362834\n",
       "2010-12-01  26.346384  26.3258 -0.020584  0.000424"
      ]
     },
     "execution_count": 40,
     "metadata": {},
     "output_type": "execute_result"
    }
   ],
   "source": [
    "evaluate.iloc[:24]"
   ]
  },
  {
   "cell_type": "code",
   "execution_count": 41,
   "metadata": {},
   "outputs": [
    {
     "data": {
      "text/plain": [
       "Text(0, 0.5, 'Temp')"
      ]
     },
     "execution_count": 41,
     "metadata": {},
     "output_type": "execute_result"
    },
    {
     "data": {
      "image/png": "[encoded data removed]",
      "text/plain": [
       "<Figure size 432x288 with 1 Axes>"
      ]
     },
     "metadata": {
      "needs_background": "light"
     },
     "output_type": "display_data"
    }
   ],
   "source": [
    "#Use the last 48 months of temp data to plot for comparision \n",
    "cur_temp = temp_data[-120:]\n",
    "plt.plot(cur_temp)\n",
    "plt.plot(evaluate[\"forecast\"])\n",
    "plt.xlabel(\"Year\")\n",
    "plt.ylabel(\"Temp\")"
   ]
  },
  {
   "cell_type": "markdown",
   "metadata": {},
   "source": [
    "# ==============================================="
   ]
  },
  {
   "cell_type": "markdown",
   "metadata": {},
   "source": [
    "# Forecasting on rain dataset on monthly basis using Exponential Smoothing"
   ]
  },
  {
   "cell_type": "code",
   "execution_count": 42,
   "metadata": {},
   "outputs": [
    {
     "name": "stdout",
     "output_type": "stream",
     "text": [
      "301.36648064838124\n"
     ]
    },
    {
     "name": "stderr",
     "output_type": "stream",
     "text": [
      "C:\\Users\\Jimmy Yang\\anaconda3\\lib\\site-packages\\statsmodels\\tsa\\base\\tsa_model.py:162: ValueWarning: No frequency information was provided, so inferred frequency MS will be used.\n",
      "  % freq, ValueWarning)\n",
      "C:\\Users\\Jimmy Yang\\anaconda3\\lib\\site-packages\\statsmodels\\tsa\\holtwinters.py:725: RuntimeWarning: invalid value encountered in less_equal\n",
      "  loc = initial_p <= lb\n",
      "C:\\Users\\Jimmy Yang\\anaconda3\\lib\\site-packages\\statsmodels\\tsa\\holtwinters.py:731: RuntimeWarning: invalid value encountered in greater_equal\n",
      "  loc = initial_p >= ub\n"
     ]
    }
   ],
   "source": [
    "#Forecasting temperature dataset first\n",
    "#Using Exponential Smoothing method\n",
    "#split data to train and test, 96 months (8 years) for test (around 10/90 split)\n",
    "1\n",
    "train = rain_data.iloc[:936]\n",
    "test = rain_data.iloc[936:]\n",
    "\n",
    "from statsmodels.tsa.holtwinters import ExponentialSmoothing\n",
    "\n",
    "fit = ExponentialSmoothing(train, seasonal =\"add\",seasonal_periods = 12).fit()\n",
    "\n",
    "#Evaluate the result for forecasting\n",
    "Eforecast = fit.forecast(96)\n",
    "\n",
    "evaluate = pd.DataFrame({\n",
    "    \"forecast\" : Eforecast.values,\n",
    "    \"actual\" :test[\"Rain\"]    \n",
    "})\n",
    "\n",
    "evaluate[\"error\"] =  evaluate[\"actual\"] - evaluate[\"forecast\"]\n",
    "evaluate[\"sqrt_error\"] = evaluate[\"error\"]**2\n",
    "\n",
    "mean_error = evaluate[\"sqrt_error\"].mean()\n",
    "print(mean_error)"
   ]
  },
  {
   "cell_type": "code",
   "execution_count": 43,
   "metadata": {},
   "outputs": [
    {
     "data": {
      "text/html": [
       "<div>\n",
       "<style scoped>\n",
       "    .dataframe tbody tr th:only-of-type {\n",
       "        vertical-align: middle;\n",
       "    }\n",
       "\n",
       "    .dataframe tbody tr th {\n",
       "        vertical-align: top;\n",
       "    }\n",
       "\n",
       "    .dataframe thead th {\n",
       "        text-align: right;\n",
       "    }\n",
       "</style>\n",
       "<table border=\"1\" class=\"dataframe\">\n",
       "  <thead>\n",
       "    <tr style=\"text-align: right;\">\n",
       "      <th></th>\n",
       "      <th>forecast</th>\n",
       "      <th>actual</th>\n",
       "      <th>error</th>\n",
       "      <th>sqrt_error</th>\n",
       "    </tr>\n",
       "    <tr>\n",
       "      <th>Date</th>\n",
       "      <th></th>\n",
       "      <th></th>\n",
       "      <th></th>\n",
       "      <th></th>\n",
       "    </tr>\n",
       "  </thead>\n",
       "  <tbody>\n",
       "    <tr>\n",
       "      <th>2009-01-01</th>\n",
       "      <td>78.232625</td>\n",
       "      <td>133.6590</td>\n",
       "      <td>55.426375</td>\n",
       "      <td>3072.083053</td>\n",
       "    </tr>\n",
       "    <tr>\n",
       "      <th>2009-02-01</th>\n",
       "      <td>78.972643</td>\n",
       "      <td>92.8045</td>\n",
       "      <td>13.831857</td>\n",
       "      <td>191.320263</td>\n",
       "    </tr>\n",
       "    <tr>\n",
       "      <th>2009-03-01</th>\n",
       "      <td>57.516310</td>\n",
       "      <td>25.0386</td>\n",
       "      <td>-32.477710</td>\n",
       "      <td>1054.801677</td>\n",
       "    </tr>\n",
       "    <tr>\n",
       "      <th>2009-04-01</th>\n",
       "      <td>29.165061</td>\n",
       "      <td>24.3906</td>\n",
       "      <td>-4.774461</td>\n",
       "      <td>22.795475</td>\n",
       "    </tr>\n",
       "    <tr>\n",
       "      <th>2009-05-01</th>\n",
       "      <td>26.613470</td>\n",
       "      <td>17.1227</td>\n",
       "      <td>-9.490770</td>\n",
       "      <td>90.074721</td>\n",
       "    </tr>\n",
       "    <tr>\n",
       "      <th>2009-06-01</th>\n",
       "      <td>24.433929</td>\n",
       "      <td>24.9955</td>\n",
       "      <td>0.561571</td>\n",
       "      <td>0.315362</td>\n",
       "    </tr>\n",
       "    <tr>\n",
       "      <th>2009-07-01</th>\n",
       "      <td>22.527608</td>\n",
       "      <td>15.2691</td>\n",
       "      <td>-7.258508</td>\n",
       "      <td>52.685940</td>\n",
       "    </tr>\n",
       "    <tr>\n",
       "      <th>2009-08-01</th>\n",
       "      <td>18.542394</td>\n",
       "      <td>11.2422</td>\n",
       "      <td>-7.300194</td>\n",
       "      <td>53.292835</td>\n",
       "    </tr>\n",
       "    <tr>\n",
       "      <th>2009-09-01</th>\n",
       "      <td>16.580574</td>\n",
       "      <td>15.8808</td>\n",
       "      <td>-0.699774</td>\n",
       "      <td>0.489683</td>\n",
       "    </tr>\n",
       "    <tr>\n",
       "      <th>2009-10-01</th>\n",
       "      <td>24.134450</td>\n",
       "      <td>13.8715</td>\n",
       "      <td>-10.262950</td>\n",
       "      <td>105.328133</td>\n",
       "    </tr>\n",
       "    <tr>\n",
       "      <th>2009-11-01</th>\n",
       "      <td>32.891035</td>\n",
       "      <td>28.7976</td>\n",
       "      <td>-4.093435</td>\n",
       "      <td>16.756208</td>\n",
       "    </tr>\n",
       "    <tr>\n",
       "      <th>2009-12-01</th>\n",
       "      <td>51.033778</td>\n",
       "      <td>63.0123</td>\n",
       "      <td>11.978522</td>\n",
       "      <td>143.484991</td>\n",
       "    </tr>\n",
       "  </tbody>\n",
       "</table>\n",
       "</div>"
      ],
      "text/plain": [
       "             forecast    actual      error   sqrt_error\n",
       "Date                                                   \n",
       "2009-01-01  78.232625  133.6590  55.426375  3072.083053\n",
       "2009-02-01  78.972643   92.8045  13.831857   191.320263\n",
       "2009-03-01  57.516310   25.0386 -32.477710  1054.801677\n",
       "2009-04-01  29.165061   24.3906  -4.774461    22.795475\n",
       "2009-05-01  26.613470   17.1227  -9.490770    90.074721\n",
       "2009-06-01  24.433929   24.9955   0.561571     0.315362\n",
       "2009-07-01  22.527608   15.2691  -7.258508    52.685940\n",
       "2009-08-01  18.542394   11.2422  -7.300194    53.292835\n",
       "2009-09-01  16.580574   15.8808  -0.699774     0.489683\n",
       "2009-10-01  24.134450   13.8715 -10.262950   105.328133\n",
       "2009-11-01  32.891035   28.7976  -4.093435    16.756208\n",
       "2009-12-01  51.033778   63.0123  11.978522   143.484991"
      ]
     },
     "execution_count": 43,
     "metadata": {},
     "output_type": "execute_result"
    }
   ],
   "source": [
    "evaluate.iloc[:12]"
   ]
  },
  {
   "cell_type": "code",
   "execution_count": 44,
   "metadata": {},
   "outputs": [
    {
     "data": {
      "text/plain": [
       "Text(0, 0.5, 'Rain')"
      ]
     },
     "execution_count": 44,
     "metadata": {},
     "output_type": "execute_result"
    },
    {
     "data": {
      "image/png": "[encoded data removed]",
      "text/plain": [
       "<Figure size 432x288 with 1 Axes>"
      ]
     },
     "metadata": {
      "needs_background": "light"
     },
     "output_type": "display_data"
    }
   ],
   "source": [
    "#Use the last 48 months of rain data to plot for comparision \n",
    "cur_rain = rain_data[-120:]\n",
    "plt.plot(cur_rain)\n",
    "plt.plot(Eforecast)\n",
    "plt.xlabel(\"Year\")\n",
    "plt.ylabel(\"Rain\")"
   ]
  },
  {
   "cell_type": "code",
   "execution_count": null,
   "metadata": {},
   "outputs": [],
   "source": []
  }
 ],
 "metadata": {
  "kernelspec": {
   "display_name": "Python 3",
   "language": "python",
   "name": "python3"
  },
  "language_info": {
   "codemirror_mode": {
    "name": "ipython",
    "version": 3
   },
   "file_extension": ".py",
   "mimetype": "text/x-python",
   "name": "python",
   "nbconvert_exporter": "python",
   "pygments_lexer": "ipython3",
   "version": "3.7.6"
  }
 },
 "nbformat": 4,
 "nbformat_minor": 4
}
